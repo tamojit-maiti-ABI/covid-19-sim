{
 "cells": [
  {
   "cell_type": "code",
   "execution_count": 22,
   "metadata": {},
   "outputs": [],
   "source": [
    "import numpy as np\n",
    "import matplotlib.pyplot as plt"
   ]
  },
  {
   "cell_type": "code",
   "execution_count": 23,
   "metadata": {},
   "outputs": [],
   "source": [
    "size = 1000 # size\n",
    "timeframe = 100 # timeframe\n",
    "\n",
    "# situation matrix\n",
    "X = np.zeros(shape = (size,size,timeframe+1)) \n",
    "\n",
    "# initial state\n",
    "X[int(size/2),int(size/2),0] = 1 \n",
    "\n",
    "# get neighbours\n",
    "def getNeighbours(i,j):\n",
    "    \"\"\"\n",
    "    Returns indices of neighbours corresponding to the (i,j) th cell\n",
    "    \"\"\"\n",
    "    neighbours = []\n",
    "    for x2 in range(i-1,i+2):\n",
    "        for y2 in range(j-1, j+2):\n",
    "            if ((x2!=i) | (y2!=j)):\n",
    "                if (x2<size) & (x2>=0) & (y2<size) & (y2>=0):\n",
    "                    neighbours.append((x2,y2))\n",
    "    return neighbours\n",
    "\n",
    "# get infected\n",
    "def getInfected(X,t):\n",
    "    \"\"\"\n",
    "    Returns indices of infected cells of X at time t\n",
    "    \"\"\"\n",
    "    infected_list = []\n",
    "    for i1,j in enumerate(X[:,:,t]):\n",
    "        for i2,k in enumerate(j):\n",
    "            if k == 1:\n",
    "                infected_list.append((i1,i2))\n",
    "    return infected_list\n",
    "\n",
    "# get dead\n",
    "def getDead(X,t):\n",
    "    \"\"\"\n",
    "    Returns the indices of dead cells at time t\n",
    "    \"\"\"\n",
    "    dead_list = []\n",
    "    for i1,j in enumerate(X[:,:,t]):\n",
    "        for i2,k in enumerate(j):\n",
    "            if k == 2:\n",
    "                dead_list.append((i1,i2))\n",
    "    return dead_list\n",
    "    \n",
    "# transmission issue\n",
    "def transmitNeighbours(neighbours_list, transmission_probability):\n",
    "    \"\"\"\n",
    "    Takes in an input list of indices of neighbours\n",
    "    Outputs the list of indices of newly infected cells\n",
    "    \"\"\"\n",
    "    neighbours_infected = []\n",
    "    infection_bitmask = np.random.binomial(1, transmission_probability, len(neighbours_list))\n",
    "    for xy,i in zip(neighbours_list, infection_bitmask):\n",
    "        if i == 1:\n",
    "            neighbours_infected.append(xy)\n",
    "    return neighbours_infected\n",
    "\n",
    "# termination \n",
    "def isDead(x,y,t,t0):\n",
    "    \"\"\"\n",
    "    For a cell with indices x,y \n",
    "    Detects if the cell would be dead or not\n",
    "    at time t\n",
    "    \"\"\"\n",
    "    if t>=t0:\n",
    "        if np.mean(X[x,y,t-t0:t])>=1:\n",
    "            return True\n",
    "    return False\n",
    "\n",
    "# evolution\n",
    "def evolve(X, transmission_probability, threshold, timeframe):\n",
    "    \"\"\"\n",
    "    Simulates the situation matrix X for n_iter iterations\n",
    "    \"\"\"\n",
    "    \n",
    "    n_infected = [] # number of infected peoples' list\n",
    "    n_dead = [] # number of dead peoples' list\n",
    "    \n",
    "    for t in range(timeframe):\n",
    "        X[:,:,t+1] = X[:,:,t] # carry over the history\n",
    "        infected_list = getInfected(X,t)\n",
    "        dead_list = getDead(X,t)\n",
    "        n_infected.append(len(infected_list))\n",
    "        n_dead.append(len(dead_list))\n",
    "                \n",
    "        for infected in infected_list:\n",
    "            neighbours_list = getNeighbours(infected[0],infected[1])\n",
    "            neighbours_infected = transmitNeighbours(neighbours_list, transmission_probability) # decaying transmission probability\n",
    "            for neighbour in neighbours_infected:\n",
    "                \n",
    "                # infect if non-infected\n",
    "                if (X[neighbour[0],neighbour[1],t] != 1):\n",
    "                    X[neighbour[0],neighbour[1],t+1] = 1\n",
    "        \n",
    "        # dead if infected for a long time \n",
    "        if (t>5):\n",
    "            for i1,j in enumerate(X[:,:,t]):\n",
    "                for i2,k in enumerate(j):\n",
    "                    if isDead(i1,i2,t,t0 = threshold):\n",
    "                        X[i1,i2,t+1] = 2\n",
    "    \n",
    "    \n",
    "    return {'end_state':X[:,:,:],\n",
    "           'n_infected':n_infected,\n",
    "           'n_dead':n_dead}\n",
    "\n",
    "# # transition\n",
    "# def transition(X):\n",
    "    "
   ]
  },
  {
   "cell_type": "code",
   "execution_count": 25,
   "metadata": {},
   "outputs": [
    {
     "data": {
      "image/png": "[encoded data removed]",
      "text/plain": [
       "<Figure size 1080x1080 with 8 Axes>"
      ]
     },
     "metadata": {
      "needs_background": "light"
     },
     "output_type": "display_data"
    }
   ],
   "source": [
    "model = evolve(X,transmission_probability = 0.1, threshold = 7, timeframe = 90)\n",
    "\n",
    "# plot\n",
    "plt.figure(figsize = (15,15))\n",
    "plt.subplot(181)\n",
    "plt.axis('off')\n",
    "plt.imshow(X[:,:,0], cmap = 'afmhot')\n",
    "plt.title('Initial')\n",
    "\n",
    "plt.subplot(182)\n",
    "plt.imshow(model['end_state'][:,:,10], cmap = 'afmhot')\n",
    "plt.title('10 days')\n",
    "plt.axis('off')\n",
    "\n",
    "plt.subplot(183)\n",
    "plt.imshow(model['end_state'][:,:,20], cmap = 'afmhot')\n",
    "plt.title('20 days')\n",
    "plt.axis('off')\n",
    "\n",
    "plt.subplot(184)\n",
    "plt.imshow(model['end_state'][:,:,30], cmap = 'afmhot')\n",
    "plt.title('30 days')\n",
    "plt.axis('off')\n",
    "\n",
    "plt.subplot(185)\n",
    "plt.imshow(model['end_state'][:,:,40], cmap = 'afmhot')\n",
    "plt.title('40 days')\n",
    "plt.axis('off')\n",
    "\n",
    "plt.subplot(186)\n",
    "plt.imshow(model['end_state'][:,:,50], cmap = 'afmhot')\n",
    "plt.title('50 days')\n",
    "plt.axis('off')\n",
    "\n",
    "plt.subplot(187)\n",
    "plt.imshow(model['end_state'][:,:,60], cmap = 'afmhot')\n",
    "plt.title('60 days')\n",
    "plt.axis('off')\n",
    "\n",
    "plt.subplot(188)\n",
    "plt.imshow(model['end_state'][:,:,70], cmap = 'afmhot')\n",
    "plt.title('70 days')\n",
    "plt.axis('off')\n",
    "\n",
    "plt.show()"
   ]
  },
  {
   "cell_type": "code",
   "execution_count": 26,
   "metadata": {},
   "outputs": [
    {
     "data": {
      "image/png": "[encoded data removed]",
      "text/plain": [
       "<Figure size 432x288 with 1 Axes>"
      ]
     },
     "metadata": {
      "needs_background": "light"
     },
     "output_type": "display_data"
    }
   ],
   "source": [
    "initial_pop = size * size\n",
    "infected = model['n_infected']\n",
    "dead = model['n_dead']\n",
    "unaffected = np.array(initial_pop) - infected - dead\n",
    "alive_pop = np.array(initial_pop) - dead\n",
    "\n",
    "plt.plot(infected, label = 'Infected')\n",
    "plt.plot(dead, label = 'Dead')\n",
    "plt.plot(unaffected, label = 'Healthy')\n",
    "plt.plot(alive_pop, label = 'Alive')\n",
    "plt.ylabel('Number of Instances')\n",
    "plt.xlabel('Days')\n",
    "plt.title('Spread of disease dynamics')\n",
    "plt.legend()\n",
    "plt.show()"
   ]
  },
  {
   "cell_type": "code",
   "execution_count": 27,
   "metadata": {},
   "outputs": [
    {
     "name": "stderr",
     "output_type": "stream",
     "text": [
      "MovieWriter ffmpeg unavailable; trying to use <class 'matplotlib.animation.PillowWriter'> instead.\n"
     ]
    },
    {
     "data": {
      "image/png": "[encoded data removed]",
      "text/plain": [
       "<Figure size 432x288 with 1 Axes>"
      ]
     },
     "metadata": {
      "needs_background": "light"
     },
     "output_type": "display_data"
    }
   ],
   "source": [
    "from celluloid import Camera\n",
    "\n",
    "fig = plt.figure()\n",
    "camera = Camera(fig)\n",
    "for t in range(X.shape[2]):\n",
    "    plt.imshow(X[:,:,t], cmap = 'afmhot')\n",
    "    camera.snap()\n",
    "animation = camera.animate()\n",
    "animation.save('noob_dynamics_large.gif')"
   ]
  },
  {
   "cell_type": "code",
   "execution_count": null,
   "metadata": {},
   "outputs": [],
   "source": []
  }
 ],
 "metadata": {
  "kernelspec": {
   "display_name": "Python 3",
   "language": "python",
   "name": "python3"
  },
  "language_info": {
   "codemirror_mode": {
    "name": "ipython",
    "version": 3
   },
   "file_extension": ".py",
   "mimetype": "text/x-python",
   "name": "python",
   "nbconvert_exporter": "python",
   "pygments_lexer": "ipython3",
   "version": "3.7.4"
  }
 },
 "nbformat": 4,
 "nbformat_minor": 2
}
